{
 "cells": [
  {
   "cell_type": "code",
   "execution_count": 1,
   "metadata": {},
   "outputs": [],
   "source": [
    "import numpy as np\n",
    "from numpy import linalg\n",
    "import pandas as pd\n",
    "\n",
    "# function to help print the numpy arrays in a cleaner manner\n",
    "def print_numpy(ndarray):\n",
    "    with np.printoptions(precision=4, suppress=True, formatter={'float': '{:0.4f}'.format}, linewidth=100):\n",
    "        print(ndarray)\n",
    "        \n",
    "        \n",
    "def scale_dataframe(dataframe: pd.DataFrame(), return_as_dataframe: bool = False):\n",
    "    \"\"\"Scales/normalizes the data such that each column has zero mean and unit variance\"\"\"\n",
    "    \n",
    "    # convert dataframe to array\n",
    "    ndarray = np.asanyarray(dataframe)\n",
    "    \n",
    "    # calculate the mean and standard deviations of the columns\n",
    "    means = ndarray.mean(axis = 0, keepdims = True)\n",
    "    std_devs = ndarray.std(axis = 0, ddof = 1, keepdims = True)        \n",
    "    \n",
    "    # subtract mean and divide by std. dev. element-wise\n",
    "    scaled_array = (ndarray - means) / std_devs\n",
    "    \n",
    "    # return the scaled data in the appropriate form\n",
    "    if return_as_dataframe:\n",
    "        return pd.DataFrame(data = scaled_array, columns = dataframe.columns)\n",
    "    else:\n",
    "        return scaled_array\n",
    "    \n",
    "def calculate_covariance_matrix(ndarray): \n",
    "    \"\"\"Since we are handling scaled data with zero mean, when computing the covariance matrix\n",
    "    there is no need to subtract the mean from the data points. We just need the dot product of \n",
    "    the transposed matrix with itself, and each element of the product divided by the number of samples.\n",
    "    Transpose has dimensions [n_features, n_samples].\n",
    "    Non-transpose matrix has dimensions [n_samples, n_features].\n",
    "    The dot product gives [n_features, n_features] shape.\"\"\"\n",
    "    \n",
    "    return (np.dot(ndarray.T, ndarray) * np.true_divide(1, ndarray.shape[0])).squeeze()"
   ]
  },
  {
   "cell_type": "code",
   "execution_count": 2,
   "metadata": {},
   "outputs": [
    {
     "ename": "SyntaxError",
     "evalue": "invalid syntax (<ipython-input-2-6ebe285094e4>, line 1)",
     "output_type": "error",
     "traceback": [
      "\u001b[1;36m  File \u001b[1;32m\"<ipython-input-2-6ebe285094e4>\"\u001b[1;36m, line \u001b[1;32m1\u001b[0m\n\u001b[1;33m    def pca(df: pd.DataFrame:\u001b[0m\n\u001b[1;37m                            ^\u001b[0m\n\u001b[1;31mSyntaxError\u001b[0m\u001b[1;31m:\u001b[0m invalid syntax\n"
     ]
    }
   ],
   "source": [
    "def pca(df: pd.DataFrame, svd: bool = True):\n",
    "    \n",
    "    print('\\nStarting dataset:')\n",
    "    print(df.head())\n",
    "    \n",
    "    # scale the data into a numpy array, further manipulation is easier with numpy    \n",
    "    dataset_scaled_array = scale_dataframe(df)\n",
    "    \n",
    "    # also get dataframe version to view the scaled data\n",
    "    dataset_scaled = pd.DataFrame(data = dataset_scaled_array, columns = dataset.columns)\n",
    "    \n",
    "    print('\\nScaled dataset:')\n",
    "    print(dataset_scaled.head())\n",
    "        \n",
    "    # calculate the covariance matrix\n",
    "    covariance_matrix = calculate_covariance_matrix(dataset_scaled_array)\n",
    "    print('\\nCovariance matrix:')\n",
    "    print_numpy(covariance_matrix)\n",
    "    \n",
    "    if svd = False:\n",
    "        \n",
    "        print('\\nUsing EIGEN DECOMPOSITION:')\n",
    "\n",
    "        # get the eigenvectors and their coresponding eigenvalues with the help of numpy\n",
    "        # each column of the _____ matrix is an eigenvector and the value with the same index\n",
    "        # in the eignevcalues array is the magnitude that the space is stretched in the direction\n",
    "        # of the eigenvector\n",
    "        eigenvalues, eigenvectors = np.linalg.eig(covariance_matrix)\n",
    "        print('\\nEigenvalues:')\n",
    "        print_numpy(eigenvalues)\n",
    "        print('\\nEigenvectors: ')\n",
    "        print_numpy(eigenvectors)\n",
    "\n",
    "        explained_variances = []\n",
    "        for i in range(len(eigenvalues)):\n",
    "            explained_variances.append(eigenvalues[i] / np.sum(eigenvalues))\n",
    "\n",
    "        print('Explained variances of the principal components:')\n",
    "        print_numpy(np.asarray(explained_variances))\n",
    "        \n",
    "    else:\n",
    "        \n",
    "        print('\\nUsing SVD - SINGULAR VALUE DECOMPOSITION :')\n",
    "\n",
    "        # get the eigenvectors and their coresponding eigenvalues with the help of numpy\n",
    "        # each column of the _____ matrix is an eigenvector and the value with the same index\n",
    "        # in the eignevcalues array is the magnitude that the space is stretched in the direction\n",
    "        # of the eigenvector\n",
    "        eigenvalues, eigenvectors = np.linalg.eig(covariance_matrix)\n",
    "        print('\\nEigenvalues:')\n",
    "        print_numpy(eigenvalues)\n",
    "        print('\\nEigenvectors: ')\n",
    "        print_numpy(eigenvectors)\n",
    "\n",
    "        explained_variances = []\n",
    "        for i in range(len(eigenvalues)):\n",
    "            explained_variances.append(eigenvalues[i] / np.sum(eigenvalues))\n",
    "\n",
    "        print('Explained variances of the principal components:')\n",
    "        print_numpy(np.asarray(explained_variances))\n",
    "        \n"
   ]
  },
  {
   "cell_type": "code",
   "execution_count": null,
   "metadata": {},
   "outputs": [],
   "source": []
  },
  {
   "cell_type": "code",
   "execution_count": null,
   "metadata": {},
   "outputs": [],
   "source": []
  },
  {
   "cell_type": "code",
   "execution_count": null,
   "metadata": {},
   "outputs": [],
   "source": []
  },
  {
   "cell_type": "code",
   "execution_count": null,
   "metadata": {},
   "outputs": [],
   "source": []
  },
  {
   "cell_type": "code",
   "execution_count": null,
   "metadata": {},
   "outputs": [],
   "source": []
  },
  {
   "cell_type": "code",
   "execution_count": null,
   "metadata": {},
   "outputs": [],
   "source": []
  },
  {
   "cell_type": "code",
   "execution_count": null,
   "metadata": {},
   "outputs": [],
   "source": []
  }
 ],
 "metadata": {
  "kernelspec": {
   "display_name": "Python 3",
   "language": "python",
   "name": "python3"
  },
  "language_info": {
   "codemirror_mode": {
    "name": "ipython",
    "version": 3
   },
   "file_extension": ".py",
   "mimetype": "text/x-python",
   "name": "python",
   "nbconvert_exporter": "python",
   "pygments_lexer": "ipython3",
   "version": "3.8.3"
  }
 },
 "nbformat": 4,
 "nbformat_minor": 4
}
