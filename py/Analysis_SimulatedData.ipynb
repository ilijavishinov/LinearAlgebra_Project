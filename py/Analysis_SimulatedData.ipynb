{
 "cells": [
  {
   "cell_type": "code",
   "execution_count": 156,
   "metadata": {},
   "outputs": [],
   "source": [
    "from sklearn.decomposition import PCA as sklearn_pca\n",
    "from sklearn.preprocessing import StandardScaler\n",
    "import matplotlib.pyplot as plt\n",
    "from scipy import stats\n",
    "import seaborn as sns\n",
    "import pandas as pd\n",
    "import numpy as np\n",
    "import importlib\n",
    "import time\n",
    "import pca_module\n",
    "importlib.reload(pca_module)\n",
    "\n",
    "def print_numpy(ndarray):\n",
    "    ndarray = np.asarray(ndarray)\n",
    "    with np.printoptions(precision=4, suppress=True, formatter={'float': '{:0.4f}'.format}, linewidth=100):\n",
    "        print(ndarray)\n",
    "\n",
    "SIZE = 100"
   ]
  },
  {
   "cell_type": "markdown",
   "metadata": {},
   "source": [
    "##############################################################################################################################################################################################################################################################################\n",
    "# Experiment 1: \n",
    "* five randomly created gaussian features\n",
    "\n",
    "# Expectations:\n",
    "* since they are not strongly correlated, the eigenvalues should be approximately the same\n",
    "\n",
    "# Results:\n",
    "* Results as expected, principal components roughly explain the same amount of variance\n",
    "* Example which was yielded with one out of many runs: [0.2582 0.2235 0.1571 0.1682 0.1929]\n",
    "* Results are the same for both eigen decomposition and singular value decomposition"
   ]
  },
  {
   "cell_type": "code",
   "execution_count": 157,
   "metadata": {},
   "outputs": [
    {
     "data": {
      "image/png": "[encoded data removed]",
      "text/plain": [
       "<Figure size 432x288 with 2 Axes>"
      ]
     },
     "metadata": {
      "needs_background": "light"
     },
     "output_type": "display_data"
    },
    {
     "name": "stdout",
     "output_type": "stream",
     "text": [
      "\n",
      "Dataset dimensions:\n",
      "(100, 5)\n",
      "\n",
      "Starting dataset head:\n",
      "    normal_1   normal_2    normal_3    normal_4  normal_5\n",
      "0   9.166985  10.468622   83.073162  -35.074945  2.927809\n",
      "1  10.609545  12.676719  203.442468    6.611112  3.615868\n",
      "2   7.785390 -20.405434   82.891185   30.602659  2.698760\n",
      "3   9.219814  15.255663   99.672531   17.814080  2.402007\n",
      "4   8.268051   3.042865   57.683079  125.357603  2.404693\n",
      "\n",
      "Scaled dataset head:\n",
      "   normal_1  normal_2  normal_3  normal_4  normal_5\n",
      "0 -0.244465 -0.010569 -0.340109 -0.751193 -0.169691\n",
      "1  0.042548  0.146908  1.729792 -0.076030  1.177117\n",
      "2 -0.519348 -2.212456 -0.343238  0.312547 -0.618031\n",
      "3 -0.233954  0.330834 -0.054662  0.105418 -1.198895\n",
      "4 -0.423317 -0.540162 -0.776723  1.847235 -1.193637\n",
      "\n",
      "Covariance matrix:\n",
      "[[0.9900 -0.1466 0.1125 0.1266 0.0733]\n",
      " [-0.1466 0.9900 0.1531 -0.0151 -0.0328]\n",
      " [0.1125 0.1531 0.9900 -0.0803 0.2057]\n",
      " [0.1266 -0.0151 -0.0803 0.9900 0.1979]\n",
      " [0.0733 -0.0328 0.2057 0.1979 0.9900]]\n",
      "_____________________________________________________________\n",
      "\n",
      "Using EIGEN DECOMPOSITION:\n",
      "_____________________________________________________________\n",
      "\n",
      "Execution time:\n",
      "0.0009989738464355469\n",
      "\n",
      "Eigenvalues:\n",
      "[0.5884 1.3268 0.8472 0.9945 1.1931]\n",
      "\n",
      "Eigenvectors: \n",
      "[[-0.3454 -0.4898 -0.5693 0.5066 -0.2452]\n",
      " [-0.3650 0.1237 -0.5191 -0.3974 0.6512]\n",
      " [0.5687 -0.3762 0.0285 0.3630 0.6344]\n",
      " [0.4437 -0.4653 -0.3073 -0.6360 -0.2960]\n",
      " [-0.4767 -0.6219 0.5579 -0.2217 0.1604]]\n",
      "Explained variances of the principal components:\n",
      "[0.1189 0.2680 0.1712 0.2009 0.2410]\n",
      "\n",
      "Dataset dimensions:\n",
      "(100, 5)\n",
      "\n",
      "Starting dataset head:\n",
      "    normal_1   normal_2    normal_3    normal_4  normal_5\n",
      "0   9.166985  10.468622   83.073162  -35.074945  2.927809\n",
      "1  10.609545  12.676719  203.442468    6.611112  3.615868\n",
      "2   7.785390 -20.405434   82.891185   30.602659  2.698760\n",
      "3   9.219814  15.255663   99.672531   17.814080  2.402007\n",
      "4   8.268051   3.042865   57.683079  125.357603  2.404693\n",
      "\n",
      "Scaled dataset head:\n",
      "   normal_1  normal_2  normal_3  normal_4  normal_5\n",
      "0 -0.244465 -0.010569 -0.340109 -0.751193 -0.169691\n",
      "1  0.042548  0.146908  1.729792 -0.076030  1.177117\n",
      "2 -0.519348 -2.212456 -0.343238  0.312547 -0.618031\n",
      "3 -0.233954  0.330834 -0.054662  0.105418 -1.198895\n",
      "4 -0.423317 -0.540162 -0.776723  1.847235 -1.193637\n",
      "\n",
      "Covariance matrix:\n",
      "[[0.9900 -0.1466 0.1125 0.1266 0.0733]\n",
      " [-0.1466 0.9900 0.1531 -0.0151 -0.0328]\n",
      " [0.1125 0.1531 0.9900 -0.0803 0.2057]\n",
      " [0.1266 -0.0151 -0.0803 0.9900 0.1979]\n",
      " [0.0733 -0.0328 0.2057 0.1979 0.9900]]\n",
      "_____________________________________________________________\n",
      "\n",
      "Using SVD - SINGULAR VALUE DECOMPOSITION:\n",
      "_____________________________________________________________\n",
      "\n",
      "Execution time:\n",
      "0.0009999275207519531\n",
      "\n",
      "Eigenvalues:\n",
      "[1.3268 1.1931 0.9945 0.8472 0.5884]\n",
      "\n",
      "Eigenvectors: \n",
      "[[-0.4898 0.2452 -0.5066 0.5693 -0.3454]\n",
      " [0.1237 -0.6512 0.3974 0.5191 -0.3650]\n",
      " [-0.3762 -0.6344 -0.3630 -0.0285 0.5687]\n",
      " [-0.4653 0.2960 0.6360 0.3073 0.4437]\n",
      " [-0.6219 -0.1604 0.2217 -0.5579 -0.4767]]\n",
      "Explained variances of the principal components:\n",
      "[0.2680 0.2410 0.2009 0.1712 0.1189]\n"
     ]
    }
   ],
   "source": [
    "# gaussian distributed features generated at random\n",
    "normal_1 = pd.Series(data = np.random.normal(loc = 10, scale = 5, size = SIZE), name = 'normal_1')\n",
    "normal_2 = pd.Series(data = np.random.normal(loc = 10, scale = 15, size = SIZE), name = 'normal_2')\n",
    "normal_3 = pd.Series(data = np.random.normal(loc = 100, scale = 66, size = SIZE), name = 'normal_3')\n",
    "normal_4 = pd.Series(data = np.random.normal(loc = 10, scale = 60, size = SIZE), name = 'normal_4')\n",
    "normal_5 = pd.Series(data = np.random.normal(loc = 3, scale = 0.5, size = SIZE), name = 'normal_5')\n",
    "\n",
    "dataset_1 = pd.concat([normal_1, normal_2, normal_3, normal_4, normal_5], axis = 1)\n",
    "\n",
    "correlation_matrix = dataset_1.corr()\n",
    "sns.heatmap(correlation_matrix, annot = True, vmin = -1, vmax = 1, cmap = sns.color_palette(\"vlag\", as_cmap=True)) \n",
    "plt.show()\n",
    "\n",
    "pca_eigen_dict = pca_module.pca(dataset_1, svd = False)\n",
    "pca_svd_dict = pca_module.pca(dataset_1, svd = True)"
   ]
  },
  {
   "cell_type": "markdown",
   "metadata": {},
   "source": [
    "##############################################################################################################################################################################################################################################################################\n",
    "# Experiment 2:\n",
    "* two random gaussian features\n",
    "* three derived features from the initial two out of which 2 are strongly correlated\n",
    "\n",
    "# Expectations:\n",
    "\n",
    "# Results:\n",
    "* Two of the principal components explain most of the variance with the less correlated feature coming on third place, and the two strongly correlated features having small eigenvalues i.e. principal components importance\n",
    "* Example which was yielded with one out of many runs: [0.4569 0.3137 0.1968 0.0033 0.0293]\n",
    "* Results are the same for both eigen decomposition and singular value decomposition\n",
    "\n"
   ]
  },
  {
   "cell_type": "code",
   "execution_count": 158,
   "metadata": {},
   "outputs": [
    {
     "data": {
      "image/png": "[encoded data removed]",
      "text/plain": [
       "<Figure size 432x288 with 2 Axes>"
      ]
     },
     "metadata": {
      "needs_background": "light"
     },
     "output_type": "display_data"
    },
    {
     "name": "stdout",
     "output_type": "stream",
     "text": [
      "\n",
      "Dataset dimensions:\n",
      "(100, 5)\n",
      "\n",
      "Starting dataset head:\n",
      "    normal_1   normal_2  normal_3_corr_1  normal_4_corr_2  normal_5_corr_1\n",
      "0   2.404941  53.461853         0.938663        30.695570       -15.187701\n",
      "1  13.021836  15.256456        10.400923        20.060942        56.658558\n",
      "2  11.742429  37.325065        13.821849        42.438163         9.974202\n",
      "3   9.894052  32.290212         9.511314        38.282633        10.040362\n",
      "4   6.142335   1.210310         5.506656        16.978634        31.067354\n",
      "\n",
      "Scaled dataset head:\n",
      "   normal_1  normal_2  normal_3_corr_1  normal_4_corr_2  normal_5_corr_1\n",
      "0 -1.622466  2.736428        -1.858508         1.007529        -0.896222\n",
      "1  0.476313  0.301952        -0.025527         0.460211         1.429004\n",
      "2  0.223396  1.708180         0.637158         1.611870        -0.081884\n",
      "3 -0.141997  1.387355        -0.197857         1.398002        -0.079743\n",
      "4 -0.883647 -0.593078        -0.973619         0.301578         0.600772\n",
      "\n",
      "Covariance matrix:\n",
      "[[0.9900 -0.1459 0.9701 -0.0856 -0.1043]\n",
      " [-0.1459 0.9900 -0.1561 0.8067 -0.0562]\n",
      " [0.9701 -0.1561 0.9900 -0.0796 -0.0692]\n",
      " [-0.0856 0.8067 -0.0796 0.9900 -0.0725]\n",
      " [-0.1043 -0.0562 -0.0692 -0.0725 0.9900]]\n",
      "_____________________________________________________________\n",
      "\n",
      "Using EIGEN DECOMPOSITION:\n",
      "_____________________________________________________________\n",
      "\n",
      "Execution time:\n",
      "0.0009987354278564453\n",
      "\n",
      "Eigenvalues:\n",
      "[2.1295 1.6632 0.9574 0.0189 0.1810]\n",
      "\n",
      "Eigenvectors: \n",
      "[[-0.5818 0.3885 0.0910 -0.7058 -0.0638]\n",
      " [0.4206 0.5546 0.1058 0.0363 -0.7093]\n",
      " [-0.5821 0.3827 0.1271 0.7060 0.0092]\n",
      " [0.3793 0.5925 0.1048 -0.0365 0.7020]\n",
      " [0.0438 -0.2097 0.9764 -0.0261 0.0063]]\n",
      "Explained variances of the principal components:\n",
      "[0.4302 0.3360 0.1934 0.0038 0.0366]\n",
      "\n",
      "Dataset dimensions:\n",
      "(100, 5)\n",
      "\n",
      "Starting dataset head:\n",
      "    normal_1   normal_2  normal_3_corr_1  normal_4_corr_2  normal_5_corr_1\n",
      "0   2.404941  53.461853         0.938663        30.695570       -15.187701\n",
      "1  13.021836  15.256456        10.400923        20.060942        56.658558\n",
      "2  11.742429  37.325065        13.821849        42.438163         9.974202\n",
      "3   9.894052  32.290212         9.511314        38.282633        10.040362\n",
      "4   6.142335   1.210310         5.506656        16.978634        31.067354\n",
      "\n",
      "Scaled dataset head:\n",
      "   normal_1  normal_2  normal_3_corr_1  normal_4_corr_2  normal_5_corr_1\n",
      "0 -1.622466  2.736428        -1.858508         1.007529        -0.896222\n",
      "1  0.476313  0.301952        -0.025527         0.460211         1.429004\n",
      "2  0.223396  1.708180         0.637158         1.611870        -0.081884\n",
      "3 -0.141997  1.387355        -0.197857         1.398002        -0.079743\n",
      "4 -0.883647 -0.593078        -0.973619         0.301578         0.600772\n",
      "\n",
      "Covariance matrix:\n",
      "[[0.9900 -0.1459 0.9701 -0.0856 -0.1043]\n",
      " [-0.1459 0.9900 -0.1561 0.8067 -0.0562]\n",
      " [0.9701 -0.1561 0.9900 -0.0796 -0.0692]\n",
      " [-0.0856 0.8067 -0.0796 0.9900 -0.0725]\n",
      " [-0.1043 -0.0562 -0.0692 -0.0725 0.9900]]\n",
      "_____________________________________________________________\n",
      "\n",
      "Using SVD - SINGULAR VALUE DECOMPOSITION:\n",
      "_____________________________________________________________\n",
      "\n",
      "Execution time:\n",
      "0.0\n",
      "\n",
      "Eigenvalues:\n",
      "[2.1295 1.6632 0.9574 0.1810 0.0189]\n",
      "\n",
      "Eigenvectors: \n",
      "[[-0.5818 -0.3885 0.0910 -0.0638 0.7058]\n",
      " [0.4206 -0.5546 0.1058 -0.7093 -0.0363]\n",
      " [-0.5821 -0.3827 0.1271 0.0092 -0.7060]\n",
      " [0.3793 -0.5925 0.1048 0.7020 0.0365]\n",
      " [0.0438 0.2097 0.9764 0.0063 0.0261]]\n",
      "Explained variances of the principal components:\n",
      "[0.4302 0.3360 0.1934 0.0366 0.0038]\n"
     ]
    }
   ],
   "source": [
    "# gaussian distributed features generated at random\n",
    "normal_1 = pd.Series(data = np.random.normal(loc = 10, scale = 5, size = SIZE), name = 'normal_1')\n",
    "normal_2 = pd.Series(data = np.random.normal(loc = 10, scale = 15, size = SIZE), name = 'normal_2')\n",
    "\n",
    "# features generated with the intention of them being correlated with some of the\n",
    "# randomly generated features above\n",
    "normal_3_corr_1 = pd.Series(data = normal_1 + np.random.normal(loc = 0, scale = 1, size = SIZE), name = 'normal_3_corr_1')\n",
    "normal_4_corr_2 = pd.Series(data = normal_2 + np.random.normal(loc = 0, scale = 10, size = SIZE), name = 'normal_4_corr_2')\n",
    "normal_5_corr_1 = pd.Series(data = normal_1 - np.random.normal(loc = 0, scale = 30, size = SIZE), name = 'normal_5_corr_1')\n",
    "\n",
    "dataset_2 = pd.concat([normal_1, normal_2, normal_3_corr_1, normal_4_corr_2, normal_5_corr_1], axis = 1)\n",
    "\n",
    "correlation_matrix = dataset_2.corr()\n",
    "sns.heatmap(correlation_matrix, annot = True, vmin = -1, vmax = 1, cmap = sns.color_palette(\"vlag\", as_cmap=True)) \n",
    "plt.show()\n",
    "\n",
    "pca_results_dict = pca_module.pca(dataset_2, svd = False)\n",
    "pca_results_dict = pca_module.pca(dataset_2, svd = True)"
   ]
  },
  {
   "cell_type": "markdown",
   "metadata": {},
   "source": [
    "##############################################################################################################################################################################################################################################################################\n",
    "# Experiment 3: Time complexity of both methods as the number of features (columns) and thus the size of the covariance matrix grows.\n",
    "\n",
    "# Results:\n",
    "* AS the number of features in the dataset grows, SVD performs much better than EVD\n",
    "\n"
   ]
  },
  {
   "cell_type": "code",
   "execution_count": 159,
   "metadata": {},
   "outputs": [
    {
     "name": "stdout",
     "output_type": "stream",
     "text": [
      "\n",
      "Number of features to be analysed:\n",
      "[  4   9  16  25  36  49  64  81 100 121 144 169 196 225 256 289 324 361 400 441 484 529 576 625]\n"
     ]
    }
   ],
   "source": [
    "number_of_features = np.linspace(2,25, 24, dtype = int) ** 2\n",
    "number_of_features = number_of_features[:]\n",
    "print(\"\\nNumber of features to be analysed:\")\n",
    "print_numpy(number_of_features)"
   ]
  },
  {
   "cell_type": "code",
   "execution_count": 160,
   "metadata": {},
   "outputs": [],
   "source": [
    "exec_times_eig = list()\n",
    "exec_times_svd = list()\n",
    "sklearn_times_svd = list()\n",
    "\n",
    "for i in number_of_features:\n",
    "    \n",
    "    df = pd.DataFrame()\n",
    "    for i in range(i):\n",
    "        series = pd.Series(data = np.random.normal(loc = 10, scale = 5, size = SIZE))\n",
    "        df = pd.concat([df, series], axis = 1)\n",
    "        \n",
    "    \n",
    "    exec_time_eig = pca_module.pca_calculation_only(df, svd = False)\n",
    "    exec_time_svd = pca_module.pca_calculation_only(df, svd = True)\n",
    "    \n",
    "    start = time.time()\n",
    "    scaled_df = StandardScaler().fit_transform(df)\n",
    "    sklearn_results = sklearn_pca().fit_transform(scaled_df)\n",
    "    exec_time_sklearn = time.time() - start \n",
    "    \n",
    "    exec_times_eig.append(exec_time_eig)\n",
    "    exec_times_svd.append(exec_time_svd)\n",
    "    sklearn_times_svd.append(exec_time_sklearn)\n",
    "\n",
    "    \n",
    "comparison_df = pd.DataFrame()\n",
    "comparison_df['number of features'] = number_of_features\n",
    "comparison_df['exec times svd'] = exec_times_svd\n",
    "comparison_df['exec times eig'] = exec_times_eig\n",
    "comparison_df['exec times sklearn_svd'] = sklearn_times_svd"
   ]
  },
  {
   "cell_type": "code",
   "execution_count": 161,
   "metadata": {},
   "outputs": [
    {
     "data": {
      "image/png": "[encoded data removed]",
      "text/plain": [
       "<Figure size 432x288 with 1 Axes>"
      ]
     },
     "metadata": {
      "needs_background": "light"
     },
     "output_type": "display_data"
    }
   ],
   "source": [
    "sns.lineplot(x = comparison_df['number of features'], y = comparison_df['exec times eig'], color = 'blue', legend = True)\n",
    "sns.lineplot(x = comparison_df['number of features'], y = comparison_df['exec times svd'], color = 'red', legend = True)\n",
    "sns.lineplot(x = comparison_df['number of features'], y = comparison_df['exec times sklearn_svd'], color = 'green', legend = True)\n",
    "\n",
    "legend_labels = ['EVD','SVD', 'sklearn SVD']\n",
    "plt.legend(title='Time taken', loc='upper left', labels=legend_labels, prop={'size': 15})\n",
    "plt.ylabel('execiton time')\n",
    "sns.despine(right = True, top = True)\n",
    "sns.plotting_context()\n",
    "plt.tight_layout()\n",
    "plt.savefig('features_exec_time.jpg')\n",
    "plt.savefig('features_exec_time.pdf')\n",
    "plt.show()"
   ]
  },
  {
   "cell_type": "code",
   "execution_count": null,
   "metadata": {},
   "outputs": [],
   "source": []
  },
  {
   "cell_type": "markdown",
   "metadata": {},
   "source": [
    "##############################################################################################################################################################################################################################################################################\n",
    "# Experiment 4: having perfectly 2 pairs of perfectly correlated features\n",
    "\n",
    "# Expectations: Two of the eigen values should be zero\n",
    "\n",
    "# Results: \n",
    "* Expectations are fulfilled\n",
    "* Example result: [0.4384 0.3657 0.1959 0.0000 0.0000]\n",
    "\n"
   ]
  },
  {
   "cell_type": "code",
   "execution_count": 162,
   "metadata": {},
   "outputs": [
    {
     "data": {
      "image/png": "[encoded data removed]",
      "text/plain": [
       "<Figure size 432x288 with 2 Axes>"
      ]
     },
     "metadata": {
      "needs_background": "light"
     },
     "output_type": "display_data"
    },
    {
     "name": "stdout",
     "output_type": "stream",
     "text": [
      "\n",
      "Dataset dimensions:\n",
      "(100, 5)\n",
      "\n",
      "Starting dataset head:\n",
      "   normal_1  normal_1    normal_3   normal_4   normal_4\n",
      "0  3.320943  3.320943  132.594527 -12.525383 -12.525383\n",
      "1  4.996530  4.996530   76.084441  48.604846  48.604846\n",
      "2  5.442315  5.442315  121.026105   1.940420   1.940420\n",
      "3  9.808531  9.808531   89.346998  95.545612  95.545612\n",
      "4  4.826809  4.826809  137.528029   1.969150   1.969150\n",
      "\n",
      "Scaled dataset head:\n",
      "   normal_1  normal_1  normal_3  normal_4  normal_4\n",
      "0 -1.363807 -1.363807  0.335998 -0.375978 -0.375978\n",
      "1 -1.029794 -1.029794 -0.632389  0.563061  0.563061\n",
      "2 -0.940931 -0.940931  0.137755 -0.153765 -0.153765\n",
      "3 -0.070567 -0.070567 -0.405115  1.284132  1.284132\n",
      "4 -1.063626 -1.063626  0.420541 -0.153323 -0.153323\n",
      "\n",
      "Covariance matrix:\n",
      "[[0.9900 0.9900 -0.1665 0.0184 0.0184]\n",
      " [0.9900 0.9900 -0.1665 0.0184 0.0184]\n",
      " [-0.1665 -0.1665 0.9900 -0.1928 -0.1928]\n",
      " [0.0184 0.0184 -0.1928 0.9900 0.9900]\n",
      " [0.0184 0.0184 -0.1928 0.9900 0.9900]]\n",
      "_____________________________________________________________\n",
      "\n",
      "Using EIGEN DECOMPOSITION:\n",
      "_____________________________________________________________\n",
      "\n",
      "Execution time:\n",
      "0.0\n",
      "\n",
      "Eigenvalues:\n",
      "[2.1304 1.9434 0.8762 0.0000 -0.0000]\n",
      "\n",
      "Eigenvectors: \n",
      "[[0.4551 0.5231 -0.1384 -0.7020 0.0941]\n",
      " [0.4551 0.5231 -0.1384 0.7020 -0.0941]\n",
      " [-0.3011 0.0097 -0.9535 -0.0000 -0.0000]\n",
      " [0.4975 -0.4757 -0.1619 -0.0845 -0.7008]\n",
      " [0.4975 -0.4757 -0.1619 0.0845 0.7008]]\n",
      "Explained variances of the principal components:\n",
      "[0.4304 0.3926 0.1770 0.0000 -0.0000]\n",
      "\n",
      "Dataset dimensions:\n",
      "(100, 5)\n",
      "\n",
      "Starting dataset head:\n",
      "   normal_1  normal_1    normal_3   normal_4   normal_4\n",
      "0  3.320943  3.320943  132.594527 -12.525383 -12.525383\n",
      "1  4.996530  4.996530   76.084441  48.604846  48.604846\n",
      "2  5.442315  5.442315  121.026105   1.940420   1.940420\n",
      "3  9.808531  9.808531   89.346998  95.545612  95.545612\n",
      "4  4.826809  4.826809  137.528029   1.969150   1.969150\n",
      "\n",
      "Scaled dataset head:\n",
      "   normal_1  normal_1  normal_3  normal_4  normal_4\n",
      "0 -1.363807 -1.363807  0.335998 -0.375978 -0.375978\n",
      "1 -1.029794 -1.029794 -0.632389  0.563061  0.563061\n",
      "2 -0.940931 -0.940931  0.137755 -0.153765 -0.153765\n",
      "3 -0.070567 -0.070567 -0.405115  1.284132  1.284132\n",
      "4 -1.063626 -1.063626  0.420541 -0.153323 -0.153323\n",
      "\n",
      "Covariance matrix:\n",
      "[[0.9900 0.9900 -0.1665 0.0184 0.0184]\n",
      " [0.9900 0.9900 -0.1665 0.0184 0.0184]\n",
      " [-0.1665 -0.1665 0.9900 -0.1928 -0.1928]\n",
      " [0.0184 0.0184 -0.1928 0.9900 0.9900]\n",
      " [0.0184 0.0184 -0.1928 0.9900 0.9900]]\n",
      "_____________________________________________________________\n",
      "\n",
      "Using SVD - SINGULAR VALUE DECOMPOSITION:\n",
      "_____________________________________________________________\n",
      "\n",
      "Execution time:\n",
      "0.0010111331939697266\n",
      "\n",
      "Eigenvalues:\n",
      "[2.1304 1.9434 0.8762 0.0000 0.0000]\n",
      "\n",
      "Eigenvectors: \n",
      "[[-0.4551 -0.5231 -0.1384 0.7071 -0.0000]\n",
      " [-0.4551 -0.5231 -0.1384 -0.7071 0.0000]\n",
      " [0.3011 -0.0097 -0.9535 -0.0000 0.0000]\n",
      " [-0.4975 0.4757 -0.1619 0.0000 -0.7071]\n",
      " [-0.4975 0.4757 -0.1619 0.0000 0.7071]]\n",
      "Explained variances of the principal components:\n",
      "[0.4304 0.3926 0.1770 0.0000 0.0000]\n"
     ]
    }
   ],
   "source": [
    "# gaussian distributed features generated at random\n",
    "normal_1 = pd.Series(data = np.random.normal(loc = 10, scale = 5, size = SIZE), name = 'normal_1')\n",
    "normal_2 = normal_1\n",
    "normal_3 = pd.Series(data = np.random.normal(loc = 100, scale = 66, size = SIZE), name = 'normal_3')\n",
    "normal_4 = pd.Series(data = np.random.normal(loc = 10, scale = 60, size = SIZE), name = 'normal_4')\n",
    "normal_5 = normal_4\n",
    "\n",
    "dataset_1 = pd.concat([normal_1, normal_2, normal_3, normal_4, normal_5], axis = 1)\n",
    "\n",
    "correlation_matrix = dataset_1.corr()\n",
    "sns.heatmap(correlation_matrix, annot = True, vmin = -1, vmax = 1, cmap = sns.color_palette(\"vlag\", as_cmap=True)) \n",
    "plt.show()\n",
    "\n",
    "pca_eigen_dict = pca_module.pca(dataset_1, svd = False)\n",
    "pca_svd_dict = pca_module.pca(dataset_1, svd = True)"
   ]
  },
  {
   "cell_type": "markdown",
   "metadata": {},
   "source": [
    "##############################################################################################################################################################################################################################################################################\n",
    "# Experiment 5: Comparison of speed as the size of the features grow but the number of features stays the same\n",
    "\n",
    "# Expectations: Only the scaling should influence the execution time, so implemented SVD and EVD should have similar execution times\n",
    "\n",
    "# Results:\n",
    "\n"
   ]
  },
  {
   "cell_type": "code",
   "execution_count": 163,
   "metadata": {},
   "outputs": [
    {
     "name": "stdout",
     "output_type": "stream",
     "text": [
      "\n",
      "Number of samples to be analysed:\n",
      "[   100    900   2500   5041   8281  12544  17424  23104  29929  37249  45796  54756  65025  75625\n",
      "  87025  99856 112896 127449 142129 157609 174724 191844 210681 229441 250000]\n"
     ]
    }
   ],
   "source": [
    "number_of_samples = np.linspace(10,500, 25, dtype = int) ** 2\n",
    "number_of_samples = number_of_samples[:]\n",
    "print(\"\\nNumber of samples to be analysed:\")\n",
    "print_numpy(number_of_samples)"
   ]
  },
  {
   "cell_type": "code",
   "execution_count": 164,
   "metadata": {},
   "outputs": [],
   "source": [
    "exec_times_eig = list()\n",
    "exec_times_svd = list()\n",
    "sklearn_times_svd = list()\n",
    "\n",
    "for sample_size in number_of_samples:\n",
    "    \n",
    "    df = pd.DataFrame()\n",
    "    for i in range(5):\n",
    "        series = pd.Series(data = np.random.normal(loc = 10, scale = 5, size = sample_size))\n",
    "        df = pd.concat([df, series], axis = 1)\n",
    "        \n",
    "    \n",
    "    exec_time_eig = pca_module.pca_calculation_only(df, svd = False)\n",
    "    exec_time_svd = pca_module.pca_calculation_only(df, svd = True)\n",
    "    \n",
    "    start = time.time()\n",
    "    sklearn_results = sklearn_pca().fit_transform(df)\n",
    "    exec_time_sklearn = time.time() - start \n",
    "    \n",
    "    exec_times_eig.append(exec_time_eig)\n",
    "    exec_times_svd.append(exec_time_svd)\n",
    "    sklearn_times_svd.append(exec_time_sklearn)\n",
    "\n",
    "    \n",
    "comparison_df = pd.DataFrame()\n",
    "comparison_df['number of samples'] = number_of_samples\n",
    "comparison_df['exec times svd'] = exec_times_svd\n",
    "comparison_df['exec times eig'] = exec_times_eig\n",
    "comparison_df['exec times sklearn_svd'] = sklearn_times_svd"
   ]
  },
  {
   "cell_type": "code",
   "execution_count": 165,
   "metadata": {},
   "outputs": [
    {
     "data": {
      "image/png": "[encoded data removed]",
      "text/plain": [
       "<Figure size 432x288 with 1 Axes>"
      ]
     },
     "metadata": {
      "needs_background": "light"
     },
     "output_type": "display_data"
    }
   ],
   "source": [
    "sns.lineplot(x = comparison_df['number of samples'], y = comparison_df['exec times eig'], color = 'blue', legend = True)\n",
    "sns.lineplot(x = comparison_df['number of samples'], y = comparison_df['exec times svd'], color = 'red', legend = True)\n",
    "sns.lineplot(x = comparison_df['number of samples'], y = comparison_df['exec times sklearn_svd'], color = 'green', legend = True)\n",
    "\n",
    "legend_labels = ['EVD','SVD', 'sklearn SVD']\n",
    "plt.legend(title='Time taken', loc='upper left', labels=legend_labels, prop={'size': 15})\n",
    "plt.ylabel('execiton time')\n",
    "sns.despine(right = True, top = True)\n",
    "sns.plotting_context()\n",
    "plt.tight_layout() \n",
    "plt.savefig('samples_exec_time.jpg')\n",
    "plt.savefig('samples_exec_time.pdf')\n",
    "plt.show()"
   ]
  },
  {
   "cell_type": "markdown",
   "metadata": {},
   "source": [
    "##############################################################################################################################################################################################################################################################################\n",
    "# Experiment n:\n",
    "\n",
    "# Expectations:\n",
    "\n",
    "# Results:\n",
    "\n"
   ]
  },
  {
   "cell_type": "markdown",
   "metadata": {},
   "source": [
    "##############################################################################################################################################################################################################################################################################\n",
    "# Experiment n:\n",
    "\n",
    "# Expectations:\n",
    "\n",
    "# Results:\n",
    "\n"
   ]
  },
  {
   "cell_type": "code",
   "execution_count": null,
   "metadata": {},
   "outputs": [],
   "source": []
  },
  {
   "cell_type": "code",
   "execution_count": null,
   "metadata": {},
   "outputs": [],
   "source": []
  }
 ],
 "metadata": {
  "kernelspec": {
   "display_name": "Python 3",
   "language": "python",
   "name": "python3"
  },
  "language_info": {
   "codemirror_mode": {
    "name": "ipython",
    "version": 3
   },
   "file_extension": ".py",
   "mimetype": "text/x-python",
   "name": "python",
   "nbconvert_exporter": "python",
   "pygments_lexer": "ipython3",
   "version": "3.8.3"
  }
 },
 "nbformat": 4,
 "nbformat_minor": 4
}
