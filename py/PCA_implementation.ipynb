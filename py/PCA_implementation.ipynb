{
 "cells": [
  {
   "cell_type": "code",
   "execution_count": 244,
   "metadata": {},
   "outputs": [],
   "source": [
    "import numpy as np\n",
    "from numpy import linalg\n",
    "import pandas as pd\n",
    "\n",
    "def print_numpy(ndarray):\n",
    "    with np.printoptions(precision=4, suppress=True, formatter={'float': '{:0.4f}'.format}, linewidth=100):\n",
    "        print(ndarray)"
   ]
  },
  {
   "cell_type": "code",
   "execution_count": 245,
   "metadata": {},
   "outputs": [
    {
     "data": {
      "text/html": [
       "<div>\n",
       "<style scoped>\n",
       "    .dataframe tbody tr th:only-of-type {\n",
       "        vertical-align: middle;\n",
       "    }\n",
       "\n",
       "    .dataframe tbody tr th {\n",
       "        vertical-align: top;\n",
       "    }\n",
       "\n",
       "    .dataframe thead th {\n",
       "        text-align: right;\n",
       "    }\n",
       "</style>\n",
       "<table border=\"1\" class=\"dataframe\">\n",
       "  <thead>\n",
       "    <tr style=\"text-align: right;\">\n",
       "      <th></th>\n",
       "      <th>SDNN</th>\n",
       "      <th>SDNN Prima</th>\n",
       "      <th>rMSSD</th>\n",
       "      <th>rMSSD Prima</th>\n",
       "      <th>SD1</th>\n",
       "      <th>SD2</th>\n",
       "      <th>SD1/SD2</th>\n",
       "    </tr>\n",
       "  </thead>\n",
       "  <tbody>\n",
       "    <tr>\n",
       "      <th>0</th>\n",
       "      <td>88.000378</td>\n",
       "      <td>86.286484</td>\n",
       "      <td>29.688175</td>\n",
       "      <td>2.147974</td>\n",
       "      <td>2.710395</td>\n",
       "      <td>15.741374</td>\n",
       "      <td>0.172183</td>\n",
       "    </tr>\n",
       "    <tr>\n",
       "      <th>1</th>\n",
       "      <td>87.967000</td>\n",
       "      <td>86.264139</td>\n",
       "      <td>29.599086</td>\n",
       "      <td>2.143843</td>\n",
       "      <td>2.702243</td>\n",
       "      <td>15.736144</td>\n",
       "      <td>0.171722</td>\n",
       "    </tr>\n",
       "    <tr>\n",
       "      <th>2</th>\n",
       "      <td>87.664977</td>\n",
       "      <td>85.957191</td>\n",
       "      <td>29.602101</td>\n",
       "      <td>2.145675</td>\n",
       "      <td>2.702372</td>\n",
       "      <td>15.680496</td>\n",
       "      <td>0.172340</td>\n",
       "    </tr>\n",
       "    <tr>\n",
       "      <th>3</th>\n",
       "      <td>87.570327</td>\n",
       "      <td>85.859593</td>\n",
       "      <td>29.643934</td>\n",
       "      <td>2.153774</td>\n",
       "      <td>2.706207</td>\n",
       "      <td>15.662971</td>\n",
       "      <td>0.172777</td>\n",
       "    </tr>\n",
       "    <tr>\n",
       "      <th>4</th>\n",
       "      <td>87.385545</td>\n",
       "      <td>85.669221</td>\n",
       "      <td>29.671323</td>\n",
       "      <td>2.159805</td>\n",
       "      <td>2.708778</td>\n",
       "      <td>15.629115</td>\n",
       "      <td>0.173316</td>\n",
       "    </tr>\n",
       "  </tbody>\n",
       "</table>\n",
       "</div>"
      ],
      "text/plain": [
       "        SDNN  SDNN Prima      rMSSD  rMSSD Prima       SD1        SD2  \\\n",
       "0  88.000378   86.286484  29.688175     2.147974  2.710395  15.741374   \n",
       "1  87.967000   86.264139  29.599086     2.143843  2.702243  15.736144   \n",
       "2  87.664977   85.957191  29.602101     2.145675  2.702372  15.680496   \n",
       "3  87.570327   85.859593  29.643934     2.153774  2.706207  15.662971   \n",
       "4  87.385545   85.669221  29.671323     2.159805  2.708778  15.629115   \n",
       "\n",
       "    SD1/SD2  \n",
       "0  0.172183  \n",
       "1  0.171722  \n",
       "2  0.172340  \n",
       "3  0.172777  \n",
       "4  0.173316  "
      ]
     },
     "execution_count": 245,
     "metadata": {},
     "output_type": "execute_result"
    }
   ],
   "source": [
    "dataset = pd.read_csv('hrv_24h_3C_frequent.csv')\n",
    "dataset.drop(['Patient_ID', 'HbA1C(%)', 'End', 'Class', 'ASDNN', 'ASDNN Prima', 'ASDNN Secunda', 'ASDNN Tertia', 'SDANN', 'SDANN Prima', 'SDANN Secunda', 'SDANN Tertia',\n",
    "              'NN50', 'NN50 Prima', 'pNN50(‰)', 'pNN50 Prima(‰)'], axis = 1, inplace = True)\n",
    "dataset.replace(to_replace = {0: np.nan}, inplace = True)\n",
    "dataset.dropna(axis = 0, inplace = True)\n",
    "dataset.head()\n",
    "# dataset.info()"
   ]
  },
  {
   "cell_type": "code",
   "execution_count": 246,
   "metadata": {},
   "outputs": [
    {
     "data": {
      "text/html": [
       "<div>\n",
       "<style scoped>\n",
       "    .dataframe tbody tr th:only-of-type {\n",
       "        vertical-align: middle;\n",
       "    }\n",
       "\n",
       "    .dataframe tbody tr th {\n",
       "        vertical-align: top;\n",
       "    }\n",
       "\n",
       "    .dataframe thead th {\n",
       "        text-align: right;\n",
       "    }\n",
       "</style>\n",
       "<table border=\"1\" class=\"dataframe\">\n",
       "  <thead>\n",
       "    <tr style=\"text-align: right;\">\n",
       "      <th></th>\n",
       "      <th>SDNN</th>\n",
       "      <th>SDNN Prima</th>\n",
       "      <th>rMSSD</th>\n",
       "      <th>rMSSD Prima</th>\n",
       "      <th>SD1</th>\n",
       "      <th>SD2</th>\n",
       "      <th>SD1/SD2</th>\n",
       "    </tr>\n",
       "  </thead>\n",
       "  <tbody>\n",
       "    <tr>\n",
       "      <th>0</th>\n",
       "      <td>0.195011</td>\n",
       "      <td>0.348132</td>\n",
       "      <td>-0.437446</td>\n",
       "      <td>-0.485037</td>\n",
       "      <td>-0.648810</td>\n",
       "      <td>0.157027</td>\n",
       "      <td>-0.898554</td>\n",
       "    </tr>\n",
       "    <tr>\n",
       "      <th>1</th>\n",
       "      <td>0.193977</td>\n",
       "      <td>0.347391</td>\n",
       "      <td>-0.440309</td>\n",
       "      <td>-0.488395</td>\n",
       "      <td>-0.651071</td>\n",
       "      <td>0.156180</td>\n",
       "      <td>-0.900942</td>\n",
       "    </tr>\n",
       "    <tr>\n",
       "      <th>2</th>\n",
       "      <td>0.184613</td>\n",
       "      <td>0.337210</td>\n",
       "      <td>-0.440212</td>\n",
       "      <td>-0.486906</td>\n",
       "      <td>-0.651035</td>\n",
       "      <td>0.147171</td>\n",
       "      <td>-0.897741</td>\n",
       "    </tr>\n",
       "    <tr>\n",
       "      <th>3</th>\n",
       "      <td>0.181678</td>\n",
       "      <td>0.333973</td>\n",
       "      <td>-0.438868</td>\n",
       "      <td>-0.480322</td>\n",
       "      <td>-0.649971</td>\n",
       "      <td>0.144333</td>\n",
       "      <td>-0.895472</td>\n",
       "    </tr>\n",
       "    <tr>\n",
       "      <th>4</th>\n",
       "      <td>0.175949</td>\n",
       "      <td>0.327659</td>\n",
       "      <td>-0.437988</td>\n",
       "      <td>-0.475420</td>\n",
       "      <td>-0.649258</td>\n",
       "      <td>0.138852</td>\n",
       "      <td>-0.892680</td>\n",
       "    </tr>\n",
       "  </tbody>\n",
       "</table>\n",
       "</div>"
      ],
      "text/plain": [
       "       SDNN  SDNN Prima     rMSSD  rMSSD Prima       SD1       SD2   SD1/SD2\n",
       "0  0.195011    0.348132 -0.437446    -0.485037 -0.648810  0.157027 -0.898554\n",
       "1  0.193977    0.347391 -0.440309    -0.488395 -0.651071  0.156180 -0.900942\n",
       "2  0.184613    0.337210 -0.440212    -0.486906 -0.651035  0.147171 -0.897741\n",
       "3  0.181678    0.333973 -0.438868    -0.480322 -0.649971  0.144333 -0.895472\n",
       "4  0.175949    0.327659 -0.437988    -0.475420 -0.649258  0.138852 -0.892680"
      ]
     },
     "execution_count": 246,
     "metadata": {},
     "output_type": "execute_result"
    }
   ],
   "source": [
    "def scale_dataframe(dataframe: pd.DataFrame(), return_as_dataframe: bool = False):\n",
    "    \n",
    "    ndarray = np.asanyarray(dataframe)\n",
    "    \n",
    "    means = ndarray.mean(axis = 0, keepdims=True)\n",
    "    std_devs = ndarray.std(axis = 0, ddof = 0, keepdims=True)        \n",
    "    \n",
    "    scaled_array = (ndarray - means) / std_devs\n",
    "    \n",
    "    if return_as_dataframe:\n",
    "        return pd.DataFrame(data = scaled_array, columns = dataframe.columns)\n",
    "    else:\n",
    "        return scaled_array\n",
    "\n",
    "    \n",
    "dataset_scaled_array = scale_dataframe(dataset)\n",
    "dataset_scaled = pd.DataFrame(data = dataset_scaled_array, columns = dataset.columns)\n",
    "dataset_scaled.head()"
   ]
  },
  {
   "cell_type": "code",
   "execution_count": 247,
   "metadata": {},
   "outputs": [
    {
     "name": "stdout",
     "output_type": "stream",
     "text": [
      "[[1.0000 0.9657 0.5729 0.5967 0.4739 0.9039 0.0231]\n",
      " [0.9657 1.0000 0.3576 0.5511 0.2853 0.8934 -0.1913]\n",
      " [0.5729 0.3576 1.0000 0.5776 0.8769 0.4380 0.7666]\n",
      " [0.5967 0.5511 0.5776 1.0000 0.5135 0.5025 0.3422]\n",
      " [0.4739 0.2853 0.8769 0.5135 1.0000 0.5438 0.7552]\n",
      " [0.9039 0.8934 0.4380 0.5025 0.5438 1.0000 -0.0459]\n",
      " [0.0231 -0.1913 0.7666 0.3422 0.7552 -0.0459 1.0000]]\n"
     ]
    },
    {
     "data": {
      "text/plain": [
       "(7, 7)"
      ]
     },
     "execution_count": 247,
     "metadata": {},
     "output_type": "execute_result"
    }
   ],
   "source": [
    "def calculate_covariance_matrix(ndarray): \n",
    "    return (np.dot(ndarray.T, ndarray) * np.true_divide(1, ndarray.shape[0])).squeeze()\n",
    "\n",
    "covariance_matrix = calculate_covariance_matrix(dataset_scaled_array)\n",
    "print_numpy(covariance_matrix)\n",
    "cov.shape"
   ]
  },
  {
   "cell_type": "code",
   "execution_count": 248,
   "metadata": {},
   "outputs": [
    {
     "name": "stdout",
     "output_type": "stream",
     "text": [
      "Eigenvalues:\n",
      "[4.1714 2.0156 0.5153 0.2175 0.0693 0.0014 0.0095]\n",
      "\n",
      "Eigenvectors: \n",
      "[[-0.4359 -0.2908 -0.0920 -0.3785 0.0802 -0.7387 -0.1469]\n",
      " [-0.3813 -0.4287 0.0005 -0.2522 0.2879 0.4398 0.5752]\n",
      " [-0.4038 0.3459 -0.1044 -0.4818 -0.5652 0.3400 -0.1981]\n",
      " [-0.3722 0.0298 0.8884 0.2454 -0.0869 -0.0273 -0.0534]\n",
      " [-0.3906 0.3554 -0.3098 0.4986 -0.2053 -0.2522 0.5204]\n",
      " [-0.4104 -0.3099 -0.3089 0.4826 0.1144 0.2795 -0.5621]\n",
      " [-0.2050 0.6235 -0.0040 -0.1387 0.7269 0.0533 -0.1366]]\n"
     ]
    }
   ],
   "source": [
    "eigenvalues, eigenvectors = np.linalg.eig(covariance_matrix)\n",
    "print('Eigenvalues:')\n",
    "print_numpy(eigenvalues)\n",
    "print('\\nEigenvectors: ')\n",
    "print_numpy(eigenvectors)"
   ]
  },
  {
   "cell_type": "code",
   "execution_count": 249,
   "metadata": {},
   "outputs": [
    {
     "name": "stdout",
     "output_type": "stream",
     "text": [
      "Explained variances: \n",
      "[0.5959 0.2879 0.0736 0.0311 0.0099 0.0002 0.0014]\n"
     ]
    }
   ],
   "source": [
    "explained_variances = []\n",
    "for i in range(len(eigenvalues)):\n",
    "    explained_variances.append(eigenvalues[i] / np.sum(eigenvalues))\n",
    "\n",
    "print('Explained variances: ')\n",
    "print_numpy(np.asarray(explained_variances))"
   ]
  },
  {
   "cell_type": "code",
   "execution_count": null,
   "metadata": {},
   "outputs": [],
   "source": []
  },
  {
   "cell_type": "code",
   "execution_count": null,
   "metadata": {},
   "outputs": [],
   "source": []
  },
  {
   "cell_type": "code",
   "execution_count": null,
   "metadata": {},
   "outputs": [],
   "source": []
  },
  {
   "cell_type": "code",
   "execution_count": null,
   "metadata": {},
   "outputs": [],
   "source": []
  },
  {
   "cell_type": "code",
   "execution_count": null,
   "metadata": {},
   "outputs": [],
   "source": []
  },
  {
   "cell_type": "code",
   "execution_count": null,
   "metadata": {},
   "outputs": [],
   "source": []
  },
  {
   "cell_type": "code",
   "execution_count": null,
   "metadata": {},
   "outputs": [],
   "source": []
  },
  {
   "cell_type": "code",
   "execution_count": null,
   "metadata": {},
   "outputs": [],
   "source": []
  }
 ],
 "metadata": {
  "kernelspec": {
   "display_name": "Python 3",
   "language": "python",
   "name": "python3"
  },
  "language_info": {
   "codemirror_mode": {
    "name": "ipython",
    "version": 3
   },
   "file_extension": ".py",
   "mimetype": "text/x-python",
   "name": "python",
   "nbconvert_exporter": "python",
   "pygments_lexer": "ipython3",
   "version": "3.8.3"
  }
 },
 "nbformat": 4,
 "nbformat_minor": 4
}
