{
 "cells": [
  {
   "cell_type": "code",
   "execution_count": 32,
   "metadata": {},
   "outputs": [],
   "source": [
    "import numpy as np\n",
    "from numpy import linalg\n",
    "import pandas as pd\n",
    "\n",
    "# function to help print the numpy arrays in a cleaner manner\n",
    "def print_numpy(ndarray):\n",
    "    with np.printoptions(precision=4, suppress=True, formatter={'float': '{:0.4f}'.format}, linewidth=100):\n",
    "        print(ndarray)"
   ]
  },
  {
   "cell_type": "code",
   "execution_count": 33,
   "metadata": {},
   "outputs": [
    {
     "data": {
      "text/html": [
       "<div>\n",
       "<style scoped>\n",
       "    .dataframe tbody tr th:only-of-type {\n",
       "        vertical-align: middle;\n",
       "    }\n",
       "\n",
       "    .dataframe tbody tr th {\n",
       "        vertical-align: top;\n",
       "    }\n",
       "\n",
       "    .dataframe thead th {\n",
       "        text-align: right;\n",
       "    }\n",
       "</style>\n",
       "<table border=\"1\" class=\"dataframe\">\n",
       "  <thead>\n",
       "    <tr style=\"text-align: right;\">\n",
       "      <th></th>\n",
       "      <th>SDNN</th>\n",
       "      <th>SDNN Prima</th>\n",
       "      <th>rMSSD</th>\n",
       "      <th>rMSSD Prima</th>\n",
       "      <th>SD1</th>\n",
       "      <th>SD2</th>\n",
       "      <th>SD1/SD2</th>\n",
       "    </tr>\n",
       "  </thead>\n",
       "  <tbody>\n",
       "    <tr>\n",
       "      <th>0</th>\n",
       "      <td>88.000378</td>\n",
       "      <td>86.286484</td>\n",
       "      <td>29.688175</td>\n",
       "      <td>2.147974</td>\n",
       "      <td>2.710395</td>\n",
       "      <td>15.741374</td>\n",
       "      <td>0.172183</td>\n",
       "    </tr>\n",
       "    <tr>\n",
       "      <th>1</th>\n",
       "      <td>87.967000</td>\n",
       "      <td>86.264139</td>\n",
       "      <td>29.599086</td>\n",
       "      <td>2.143843</td>\n",
       "      <td>2.702243</td>\n",
       "      <td>15.736144</td>\n",
       "      <td>0.171722</td>\n",
       "    </tr>\n",
       "    <tr>\n",
       "      <th>2</th>\n",
       "      <td>87.664977</td>\n",
       "      <td>85.957191</td>\n",
       "      <td>29.602101</td>\n",
       "      <td>2.145675</td>\n",
       "      <td>2.702372</td>\n",
       "      <td>15.680496</td>\n",
       "      <td>0.172340</td>\n",
       "    </tr>\n",
       "    <tr>\n",
       "      <th>3</th>\n",
       "      <td>87.570327</td>\n",
       "      <td>85.859593</td>\n",
       "      <td>29.643934</td>\n",
       "      <td>2.153774</td>\n",
       "      <td>2.706207</td>\n",
       "      <td>15.662971</td>\n",
       "      <td>0.172777</td>\n",
       "    </tr>\n",
       "    <tr>\n",
       "      <th>4</th>\n",
       "      <td>87.385545</td>\n",
       "      <td>85.669221</td>\n",
       "      <td>29.671323</td>\n",
       "      <td>2.159805</td>\n",
       "      <td>2.708778</td>\n",
       "      <td>15.629115</td>\n",
       "      <td>0.173316</td>\n",
       "    </tr>\n",
       "  </tbody>\n",
       "</table>\n",
       "</div>"
      ],
      "text/plain": [
       "        SDNN  SDNN Prima      rMSSD  rMSSD Prima       SD1        SD2  \\\n",
       "0  88.000378   86.286484  29.688175     2.147974  2.710395  15.741374   \n",
       "1  87.967000   86.264139  29.599086     2.143843  2.702243  15.736144   \n",
       "2  87.664977   85.957191  29.602101     2.145675  2.702372  15.680496   \n",
       "3  87.570327   85.859593  29.643934     2.153774  2.706207  15.662971   \n",
       "4  87.385545   85.669221  29.671323     2.159805  2.708778  15.629115   \n",
       "\n",
       "    SD1/SD2  \n",
       "0  0.172183  \n",
       "1  0.171722  \n",
       "2  0.172340  \n",
       "3  0.172777  \n",
       "4  0.173316  "
      ]
     },
     "execution_count": 33,
     "metadata": {},
     "output_type": "execute_result"
    }
   ],
   "source": [
    "# read the dataset \n",
    "dataset = pd.read_csv('hrv_24h_3C_frequent.csv')\n",
    "dataset.drop(['Patient_ID', 'HbA1C(%)', 'End', 'Class', 'ASDNN', 'ASDNN Prima', 'ASDNN Secunda', 'ASDNN Tertia', 'SDANN', 'SDANN Prima', 'SDANN Secunda', 'SDANN Tertia',\n",
    "              'NN50', 'NN50 Prima', 'pNN50(‰)', 'pNN50 Prima(‰)'], axis = 1, inplace = True)\n",
    "dataset.replace(to_replace = {0: np.nan}, inplace = True)\n",
    "dataset.dropna(axis = 0, inplace = True)\n",
    "dataset.head()"
   ]
  },
  {
   "cell_type": "code",
   "execution_count": 34,
   "metadata": {},
   "outputs": [
    {
     "data": {
      "text/html": [
       "<div>\n",
       "<style scoped>\n",
       "    .dataframe tbody tr th:only-of-type {\n",
       "        vertical-align: middle;\n",
       "    }\n",
       "\n",
       "    .dataframe tbody tr th {\n",
       "        vertical-align: top;\n",
       "    }\n",
       "\n",
       "    .dataframe thead th {\n",
       "        text-align: right;\n",
       "    }\n",
       "</style>\n",
       "<table border=\"1\" class=\"dataframe\">\n",
       "  <thead>\n",
       "    <tr style=\"text-align: right;\">\n",
       "      <th></th>\n",
       "      <th>SDNN</th>\n",
       "      <th>SDNN Prima</th>\n",
       "      <th>rMSSD</th>\n",
       "      <th>rMSSD Prima</th>\n",
       "      <th>SD1</th>\n",
       "      <th>SD2</th>\n",
       "      <th>SD1/SD2</th>\n",
       "    </tr>\n",
       "  </thead>\n",
       "  <tbody>\n",
       "    <tr>\n",
       "      <th>0</th>\n",
       "      <td>0.194992</td>\n",
       "      <td>0.348097</td>\n",
       "      <td>-0.437402</td>\n",
       "      <td>-0.484988</td>\n",
       "      <td>-0.648745</td>\n",
       "      <td>0.157011</td>\n",
       "      <td>-0.898463</td>\n",
       "    </tr>\n",
       "    <tr>\n",
       "      <th>1</th>\n",
       "      <td>0.193957</td>\n",
       "      <td>0.347356</td>\n",
       "      <td>-0.440265</td>\n",
       "      <td>-0.488346</td>\n",
       "      <td>-0.651005</td>\n",
       "      <td>0.156164</td>\n",
       "      <td>-0.900851</td>\n",
       "    </tr>\n",
       "    <tr>\n",
       "      <th>2</th>\n",
       "      <td>0.184594</td>\n",
       "      <td>0.337176</td>\n",
       "      <td>-0.440168</td>\n",
       "      <td>-0.486857</td>\n",
       "      <td>-0.650970</td>\n",
       "      <td>0.147156</td>\n",
       "      <td>-0.897651</td>\n",
       "    </tr>\n",
       "    <tr>\n",
       "      <th>3</th>\n",
       "      <td>0.181660</td>\n",
       "      <td>0.333939</td>\n",
       "      <td>-0.438824</td>\n",
       "      <td>-0.480274</td>\n",
       "      <td>-0.649906</td>\n",
       "      <td>0.144319</td>\n",
       "      <td>-0.895382</td>\n",
       "    </tr>\n",
       "    <tr>\n",
       "      <th>4</th>\n",
       "      <td>0.175932</td>\n",
       "      <td>0.327626</td>\n",
       "      <td>-0.437944</td>\n",
       "      <td>-0.475373</td>\n",
       "      <td>-0.649193</td>\n",
       "      <td>0.138838</td>\n",
       "      <td>-0.892590</td>\n",
       "    </tr>\n",
       "  </tbody>\n",
       "</table>\n",
       "</div>"
      ],
      "text/plain": [
       "       SDNN  SDNN Prima     rMSSD  rMSSD Prima       SD1       SD2   SD1/SD2\n",
       "0  0.194992    0.348097 -0.437402    -0.484988 -0.648745  0.157011 -0.898463\n",
       "1  0.193957    0.347356 -0.440265    -0.488346 -0.651005  0.156164 -0.900851\n",
       "2  0.184594    0.337176 -0.440168    -0.486857 -0.650970  0.147156 -0.897651\n",
       "3  0.181660    0.333939 -0.438824    -0.480274 -0.649906  0.144319 -0.895382\n",
       "4  0.175932    0.327626 -0.437944    -0.475373 -0.649193  0.138838 -0.892590"
      ]
     },
     "execution_count": 34,
     "metadata": {},
     "output_type": "execute_result"
    }
   ],
   "source": [
    "def scale_dataframe(dataframe: pd.DataFrame(), return_as_dataframe: bool = False):\n",
    "    \"\"\"Scales/normalizes the data such that each column has zero mean and unit variance\"\"\"\n",
    "    \n",
    "    # convert dataframe to array\n",
    "    ndarray = np.asanyarray(dataframe)\n",
    "    \n",
    "    # calculate the mean and standard deviations of the columns\n",
    "    means = ndarray.mean(axis = 0, keepdims = True)\n",
    "    std_devs = ndarray.std(axis = 0, ddof = 1, keepdims = True)        \n",
    "    \n",
    "    # subtract mean and divide by std. dev. element-wise\n",
    "    scaled_array = (ndarray - means) / std_devs\n",
    "    \n",
    "    # return the scaled data in the appropriate form\n",
    "    if return_as_dataframe:\n",
    "        return pd.DataFrame(data = scaled_array, columns = dataframe.columns)\n",
    "    else:\n",
    "        return scaled_array\n",
    "\n",
    "# scale the data into a numpy array, further manipulation is easier with numpy    \n",
    "dataset_scaled_array = scale_dataframe(dataset)\n",
    "# also get dataframe version to view the scaled data\n",
    "dataset_scaled = pd.DataFrame(data = dataset_scaled_array, columns = dataset.columns)\n",
    "dataset_scaled.head()"
   ]
  },
  {
   "cell_type": "code",
   "execution_count": 35,
   "metadata": {},
   "outputs": [
    {
     "name": "stdout",
     "output_type": "stream",
     "text": [
      "(4970, 7)\n",
      "Covariance matrix:\n",
      "[[0.9998 0.9655 0.5728 0.5965 0.4738 0.9037 0.0231]\n",
      " [0.9655 0.9998 0.3576 0.5510 0.2853 0.8932 -0.1912]\n",
      " [0.5728 0.3576 0.9998 0.5775 0.8768 0.4379 0.7664]\n",
      " [0.5965 0.5510 0.5775 0.9998 0.5134 0.5024 0.3421]\n",
      " [0.4738 0.2853 0.8768 0.5134 0.9998 0.5437 0.7551]\n",
      " [0.9037 0.8932 0.4379 0.5024 0.5437 0.9998 -0.0459]\n",
      " [0.0231 -0.1912 0.7664 0.3421 0.7551 -0.0459 0.9998]]\n"
     ]
    },
    {
     "data": {
      "text/plain": [
       "(7, 7)"
      ]
     },
     "execution_count": 35,
     "metadata": {},
     "output_type": "execute_result"
    }
   ],
   "source": [
    "def calculate_covariance_matrix(ndarray): \n",
    "    \"\"\"Since we are handling scaled data with zero mean, when computing the covariance matrix\n",
    "    there is no need to subtract the mean from the data points. We just need the dot product of \n",
    "    the transposed matrix with itself, and each element of the product divided by the number of samples.\n",
    "    Transpose has dimensions [n_features, n_samples].\n",
    "    Non-transpose matrix has dimensions [n_samples, n_features].\n",
    "    The dot product gives [n_features, n_features] shape.\"\"\"\n",
    "    \n",
    "    return (np.dot(ndarray.T, ndarray) * np.true_divide(1, ndarray.shape[0])).squeeze()\n",
    "\n",
    "# use the function to calculate the covariance matrix\n",
    "print(dataset_scaled_array.shape)\n",
    "covariance_matrix = calculate_covariance_matrix(dataset_scaled_array)\n",
    "print('Covariance matrix:')\n",
    "print_numpy(covariance_matrix)\n",
    "covariance_matrix.shape"
   ]
  },
  {
   "cell_type": "code",
   "execution_count": 23,
   "metadata": {},
   "outputs": [
    {
     "name": "stdout",
     "output_type": "stream",
     "text": [
      "Eigenvalues:\n",
      "[4.1706 2.0152 0.5152 0.2175 0.0693 0.0014 0.0095]\n",
      "\n",
      "Eigenvectors: \n",
      "[[-0.4359 -0.2908 -0.0920 -0.3785 0.0802 -0.7387 -0.1469]\n",
      " [-0.3813 -0.4287 0.0005 -0.2522 0.2879 0.4398 0.5752]\n",
      " [-0.4038 0.3459 -0.1044 -0.4818 -0.5652 0.3400 -0.1981]\n",
      " [-0.3722 0.0298 0.8884 0.2454 -0.0869 -0.0273 -0.0534]\n",
      " [-0.3906 0.3554 -0.3098 0.4986 -0.2053 -0.2522 0.5204]\n",
      " [-0.4104 -0.3099 -0.3089 0.4826 0.1144 0.2795 -0.5621]\n",
      " [-0.2050 0.6235 -0.0040 -0.1387 0.7269 0.0533 -0.1366]]\n",
      "\n",
      "Execution Time:\n",
      "\n",
      "0.0010001659393310547\n"
     ]
    }
   ],
   "source": [
    "# get the eigenvectors and their coresponding eigenvalues with the help of numpy\n",
    "# each column of the _____ matrix is an eigenvector and the value with the same index\n",
    "# in the eignevcalues array is the magnitude that the space is stretched in the direction\n",
    "# of the eigenvector\n",
    "import time\n",
    "\n",
    "start = time.time()\n",
    "eigenvalues, eigenvectors = np.linalg.eig(covariance_matrix)\n",
    "exec_time = time.time() - start\n",
    "\n",
    "print('Eigenvalues:')\n",
    "print_numpy(eigenvalues)\n",
    "print('\\nEigenvectors: ')\n",
    "print_numpy(eigenvectors)\n",
    "print('\\nExecution Time:\\n')\n",
    "print(exec_time)\n"
   ]
  },
  {
   "cell_type": "code",
   "execution_count": 6,
   "metadata": {},
   "outputs": [
    {
     "name": "stdout",
     "output_type": "stream",
     "text": [
      "Explained variances: of the principal components:\n",
      "[0.5959 0.2879 0.0736 0.0311 0.0099 0.0002 0.0014]\n"
     ]
    }
   ],
   "source": [
    "explained_variances = []\n",
    "for i in range(len(eigenvalues)):\n",
    "    explained_variances.append(eigenvalues[i] / np.sum(eigenvalues))\n",
    "\n",
    "print('Explained variances: of the principal components:')\n",
    "print_numpy(np.asarray(explained_variances))"
   ]
  },
  {
   "cell_type": "code",
   "execution_count": 30,
   "metadata": {},
   "outputs": [
    {
     "name": "stdout",
     "output_type": "stream",
     "text": [
      "\n",
      "Execution Time:\n",
      "\n",
      "0.0010008811950683594\n"
     ]
    }
   ],
   "source": [
    "start = time.time()\n",
    "u, s, v = np.linalg.svd(covariance_matrix, full_matrices=False)\n",
    "exec_time = time.time() - start\n",
    "print('\\nExecution Time:\\n')\n",
    "print(exec_time)"
   ]
  },
  {
   "cell_type": "code",
   "execution_count": 31,
   "metadata": {},
   "outputs": [
    {
     "name": "stdout",
     "output_type": "stream",
     "text": [
      "[[-0.4359 -0.2908 -0.0920 -0.3785 0.0802 0.1469 0.7387]\n",
      " [-0.3813 -0.4287 0.0005 -0.2522 0.2879 -0.5752 -0.4398]\n",
      " [-0.4038 0.3459 -0.1044 -0.4818 -0.5652 0.1981 -0.3400]\n",
      " [-0.3722 0.0298 0.8884 0.2454 -0.0869 0.0534 0.0273]\n",
      " [-0.3906 0.3554 -0.3098 0.4986 -0.2053 -0.5204 0.2522]\n",
      " [-0.4104 -0.3099 -0.3089 0.4826 0.1144 0.5621 -0.2795]\n",
      " [-0.2050 0.6235 -0.0040 -0.1387 0.7269 0.1366 -0.0533]]\n",
      "[4.1706 2.0152 0.5152 0.2175 0.0693 0.0095 0.0014]\n",
      "[[-0.4359 -0.3813 -0.4038 -0.3722 -0.3906 -0.4104 -0.2050]\n",
      " [-0.2908 -0.4287 0.3459 0.0298 0.3554 -0.3099 0.6235]\n",
      " [-0.0920 0.0005 -0.1044 0.8884 -0.3098 -0.3089 -0.0040]\n",
      " [-0.3785 -0.2522 -0.4818 0.2454 0.4986 0.4826 -0.1387]\n",
      " [0.0802 0.2879 -0.5652 -0.0869 -0.2053 0.1144 0.7269]\n",
      " [0.1469 -0.5752 0.1981 0.0534 -0.5204 0.5621 0.1366]\n",
      " [0.7387 -0.4398 -0.3400 0.0273 0.2522 -0.2795 -0.0533]]\n"
     ]
    }
   ],
   "source": [
    "print_numpy(u)\n",
    "print_numpy(s)\n",
    "print_numpy(v)"
   ]
  },
  {
   "cell_type": "code",
   "execution_count": null,
   "metadata": {},
   "outputs": [],
   "source": [
    ")"
   ]
  },
  {
   "cell_type": "code",
   "execution_count": null,
   "metadata": {},
   "outputs": [],
   "source": []
  },
  {
   "cell_type": "code",
   "execution_count": null,
   "metadata": {},
   "outputs": [],
   "source": []
  },
  {
   "cell_type": "code",
   "execution_count": null,
   "metadata": {},
   "outputs": [],
   "source": []
  },
  {
   "cell_type": "code",
   "execution_count": null,
   "metadata": {},
   "outputs": [],
   "source": []
  }
 ],
 "metadata": {
  "kernelspec": {
   "display_name": "Python 3",
   "language": "python",
   "name": "python3"
  },
  "language_info": {
   "codemirror_mode": {
    "name": "ipython",
    "version": 3
   },
   "file_extension": ".py",
   "mimetype": "text/x-python",
   "name": "python",
   "nbconvert_exporter": "python",
   "pygments_lexer": "ipython3",
   "version": "3.8.3"
  }
 },
 "nbformat": 4,
 "nbformat_minor": 4
}
